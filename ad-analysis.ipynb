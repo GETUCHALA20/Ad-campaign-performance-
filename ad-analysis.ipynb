{
 "cells": [
  {
   "cell_type": "markdown",
   "metadata": {},
   "source": [
    "## Analysis of Ad marketing campaign"
   ]
  },
  {
   "cell_type": "markdown",
   "metadata": {},
   "source": [
    "### Classic and sequential A/B testing analysis"
   ]
  },
  {
   "cell_type": "code",
   "execution_count": 37,
   "metadata": {},
   "outputs": [],
   "source": [
    "#importing important packages \n",
    "import pandas as pd\n",
    "import numpy as np\n",
    "import seaborn as sns\n",
    "import matplotlib.pyplot as plt\n",
    "import math\n",
    "import statsmodels.stats.api as sms\n",
    "import scipy.stats as st\n"
   ]
  },
  {
   "cell_type": "code",
   "execution_count": 2,
   "metadata": {},
   "outputs": [],
   "source": [
    "#importing ad csv data using pandas\n",
    "ad_data = pd.read_csv(\"ABAdRecall.csv\")"
   ]
  },
  {
   "cell_type": "code",
   "execution_count": 21,
   "metadata": {},
   "outputs": [
    {
     "data": {
      "text/html": [
       "<div>\n",
       "<style scoped>\n",
       "    .dataframe tbody tr th:only-of-type {\n",
       "        vertical-align: middle;\n",
       "    }\n",
       "\n",
       "    .dataframe tbody tr th {\n",
       "        vertical-align: top;\n",
       "    }\n",
       "\n",
       "    .dataframe thead th {\n",
       "        text-align: right;\n",
       "    }\n",
       "</style>\n",
       "<table border=\"1\" class=\"dataframe\">\n",
       "  <thead>\n",
       "    <tr style=\"text-align: right;\">\n",
       "      <th></th>\n",
       "      <th>auction_id</th>\n",
       "      <th>experiment</th>\n",
       "      <th>date</th>\n",
       "      <th>hour</th>\n",
       "      <th>device_make</th>\n",
       "      <th>platform_os</th>\n",
       "      <th>browser</th>\n",
       "      <th>yes</th>\n",
       "      <th>no</th>\n",
       "    </tr>\n",
       "  </thead>\n",
       "  <tbody>\n",
       "    <tr>\n",
       "      <th>7878</th>\n",
       "      <td>f9ca260c-806c-453c-8737-7a0a16157eaa</td>\n",
       "      <td>exposed</td>\n",
       "      <td>2020-07-09</td>\n",
       "      <td>5</td>\n",
       "      <td>Generic Smartphone</td>\n",
       "      <td>6</td>\n",
       "      <td>Chrome Mobile</td>\n",
       "      <td>0</td>\n",
       "      <td>0</td>\n",
       "    </tr>\n",
       "    <tr>\n",
       "      <th>3676</th>\n",
       "      <td>7682d966-eec5-49ed-ae4a-01edcd8a85bf</td>\n",
       "      <td>exposed</td>\n",
       "      <td>2020-07-09</td>\n",
       "      <td>0</td>\n",
       "      <td>Generic Smartphone</td>\n",
       "      <td>6</td>\n",
       "      <td>Chrome Mobile</td>\n",
       "      <td>0</td>\n",
       "      <td>0</td>\n",
       "    </tr>\n",
       "    <tr>\n",
       "      <th>5356</th>\n",
       "      <td>a9820e2e-ddae-4607-970d-bd4decd31d63</td>\n",
       "      <td>control</td>\n",
       "      <td>2020-07-08</td>\n",
       "      <td>19</td>\n",
       "      <td>Generic Smartphone</td>\n",
       "      <td>6</td>\n",
       "      <td>Chrome Mobile WebView</td>\n",
       "      <td>0</td>\n",
       "      <td>0</td>\n",
       "    </tr>\n",
       "    <tr>\n",
       "      <th>188</th>\n",
       "      <td>056fdef5-660b-4467-afbd-668dfa52d5a6</td>\n",
       "      <td>control</td>\n",
       "      <td>2020-07-10</td>\n",
       "      <td>3</td>\n",
       "      <td>iPhone</td>\n",
       "      <td>5</td>\n",
       "      <td>Mobile Safari</td>\n",
       "      <td>0</td>\n",
       "      <td>0</td>\n",
       "    </tr>\n",
       "    <tr>\n",
       "      <th>2966</th>\n",
       "      <td>5f26f329-49e6-4320-ba42-7f7218168a3e</td>\n",
       "      <td>control</td>\n",
       "      <td>2020-07-03</td>\n",
       "      <td>15</td>\n",
       "      <td>Generic Smartphone</td>\n",
       "      <td>6</td>\n",
       "      <td>Chrome Mobile</td>\n",
       "      <td>0</td>\n",
       "      <td>0</td>\n",
       "    </tr>\n",
       "  </tbody>\n",
       "</table>\n",
       "</div>"
      ],
      "text/plain": [
       "                                auction_id experiment        date  hour  \\\n",
       "7878  f9ca260c-806c-453c-8737-7a0a16157eaa    exposed  2020-07-09     5   \n",
       "3676  7682d966-eec5-49ed-ae4a-01edcd8a85bf    exposed  2020-07-09     0   \n",
       "5356  a9820e2e-ddae-4607-970d-bd4decd31d63    control  2020-07-08    19   \n",
       "188   056fdef5-660b-4467-afbd-668dfa52d5a6    control  2020-07-10     3   \n",
       "2966  5f26f329-49e6-4320-ba42-7f7218168a3e    control  2020-07-03    15   \n",
       "\n",
       "             device_make  platform_os                browser  yes  no  \n",
       "7878  Generic Smartphone            6          Chrome Mobile    0   0  \n",
       "3676  Generic Smartphone            6          Chrome Mobile    0   0  \n",
       "5356  Generic Smartphone            6  Chrome Mobile WebView    0   0  \n",
       "188               iPhone            5          Mobile Safari    0   0  \n",
       "2966  Generic Smartphone            6          Chrome Mobile    0   0  "
      ]
     },
     "execution_count": 21,
     "metadata": {},
     "output_type": "execute_result"
    }
   ],
   "source": [
    "#showing five top rows\n",
    "ad_data.sample(5)"
   ]
  },
  {
   "cell_type": "code",
   "execution_count": 4,
   "metadata": {},
   "outputs": [
    {
     "name": "stdout",
     "output_type": "stream",
     "text": [
      "<class 'pandas.core.frame.DataFrame'>\n",
      "RangeIndex: 8077 entries, 0 to 8076\n",
      "Data columns (total 9 columns):\n",
      "auction_id     8077 non-null object\n",
      "experiment     8077 non-null object\n",
      "date           8077 non-null object\n",
      "hour           8077 non-null int64\n",
      "device_make    8077 non-null object\n",
      "platform_os    8077 non-null int64\n",
      "browser        8077 non-null object\n",
      "yes            8077 non-null int64\n",
      "no             8077 non-null int64\n",
      "dtypes: int64(4), object(5)\n",
      "memory usage: 568.0+ KB\n"
     ]
    }
   ],
   "source": [
    "ad_data.info()"
   ]
  },
  {
   "cell_type": "code",
   "execution_count": 5,
   "metadata": {},
   "outputs": [
    {
     "data": {
      "text/plain": [
       "auction_id     0\n",
       "experiment     0\n",
       "date           0\n",
       "hour           0\n",
       "device_make    0\n",
       "platform_os    0\n",
       "browser        0\n",
       "yes            0\n",
       "no             0\n",
       "dtype: int64"
      ]
     },
     "execution_count": 5,
     "metadata": {},
     "output_type": "execute_result"
    }
   ],
   "source": [
    "#making sure data doesnt have missed value or null value\n",
    "ad_data.isna().sum()"
   ]
  },
  {
   "cell_type": "code",
   "execution_count": 6,
   "metadata": {},
   "outputs": [
    {
     "name": "stdout",
     "output_type": "stream",
     "text": [
      "8077\n",
      "8077\n"
     ]
    }
   ],
   "source": [
    "#Check how many duplicated users exist\n",
    "print(ad_data['auction_id'].count())\n",
    "print(ad_data['auction_id'].nunique())\n"
   ]
  },
  {
   "cell_type": "code",
   "execution_count": 14,
   "metadata": {},
   "outputs": [
    {
     "data": {
      "image/png": "[encoded data removed]",
      "text/plain": [
       "<Figure size 432x288 with 1 Axes>"
      ]
     },
     "metadata": {
      "needs_background": "light"
     },
     "output_type": "display_data"
    }
   ],
   "source": [
    "#Bar plot showing number of experiment catagory\n",
    "sns.countplot(ad_data['experiment'])\n",
    "plt.title('Frequency Distribution of experiment')\n",
    "plt.ylabel('Count', fontsize=12)\n",
    "plt.xlabel('Experiment', fontsize=12)\n",
    "plt.show()"
   ]
  },
  {
   "cell_type": "markdown",
   "metadata": {},
   "source": [
    "Observations\n",
    "\n",
    "Recipients of both the experiment are almost equally included in the campaign."
   ]
  },
  {
   "cell_type": "code",
   "execution_count": 23,
   "metadata": {},
   "outputs": [
    {
     "data": {
      "image/png": "[encoded data removed]",
      "text/plain": [
       "<Figure size 432x288 with 1 Axes>"
      ]
     },
     "metadata": {
      "needs_background": "light"
     },
     "output_type": "display_data"
    }
   ],
   "source": [
    "#plot of date when data is provided per experiment\n",
    "sns.countplot(x=\"date\", hue=\"experiment\", data=ad_data)\n",
    "plt.xticks(rotation='vertical')\n",
    "plt.title('Frequency Distribution of date per exiperiment')\n",
    "plt.ylabel('Number of Occurrences', fontsize=12)\n",
    "plt.xlabel('Date', fontsize=12)\n",
    "plt.show()"
   ]
  },
  {
   "cell_type": "markdown",
   "metadata": {},
   "source": [
    "Observations\n",
    "\n",
    "The top date the campaign got more response is on 2020-07-03 and low response on 2020-07-07"
   ]
  },
  {
   "cell_type": "code",
   "execution_count": 25,
   "metadata": {},
   "outputs": [
    {
     "data": {
      "image/png": "[encoded data removed]",
      "text/plain": [
       "<Figure size 432x288 with 1 Axes>"
      ]
     },
     "metadata": {
      "needs_background": "light"
     },
     "output_type": "display_data"
    }
   ],
   "source": [
    "#plot of browser used\n",
    "#ad_data['browser'].value_counts().plot(kind='bar')\n",
    "sns.countplot(x=\"browser\", hue=\"experiment\", data=ad_data)\n",
    "plt.xticks(rotation='vertical')\n",
    "plt.title('Frequency Distribution of Browser per experiment')\n",
    "plt.ylabel('Number of Occurrences', fontsize=12)\n",
    "plt.xlabel('Browser', fontsize=12)\n",
    "plt.show()"
   ]
  },
  {
   "cell_type": "markdown",
   "metadata": {},
   "source": [
    "Observations\n",
    "\n",
    "Most of the users in ad campaign uses Chrome Mobile and Chrome Mobile WebView"
   ]
  },
  {
   "cell_type": "code",
   "execution_count": 35,
   "metadata": {},
   "outputs": [
    {
     "data": {
      "text/plain": [
       "0    7505\n",
       "1     572\n",
       "Name: yes, dtype: int64"
      ]
     },
     "execution_count": 35,
     "metadata": {},
     "output_type": "execute_result"
    }
   ],
   "source": [
    "ad_data['yes'].value_counts()"
   ]
  },
  {
   "cell_type": "code",
   "execution_count": 27,
   "metadata": {},
   "outputs": [
    {
     "data": {
      "image/png": "[encoded data removed]",
      "text/plain": [
       "<Figure size 432x288 with 1 Axes>"
      ]
     },
     "metadata": {
      "needs_background": "light"
     },
     "output_type": "display_data"
    }
   ],
   "source": [
    "#distribution of yes\n",
    "sns.countplot(x='yes', hue='experiment',data=ad_data)\n",
    "plt.xticks(rotation='vertical')\n",
    "plt.title('Frequency Distribution of Yes per experiment')\n",
    "plt.ylabel('Number of Occurrences', fontsize=12)\n",
    "plt.xlabel('Yes Answer', fontsize=12)\n",
    "plt.show()\n"
   ]
  },
  {
   "cell_type": "code",
   "execution_count": 36,
   "metadata": {},
   "outputs": [
    {
     "data": {
      "text/plain": [
       "0    7406\n",
       "1     671\n",
       "Name: no, dtype: int64"
      ]
     },
     "execution_count": 36,
     "metadata": {},
     "output_type": "execute_result"
    }
   ],
   "source": [
    "ad_data['no'].value_counts()"
   ]
  },
  {
   "cell_type": "code",
   "execution_count": 28,
   "metadata": {},
   "outputs": [
    {
     "data": {
      "image/png": "[encoded data removed]",
      "text/plain": [
       "<Figure size 432x288 with 1 Axes>"
      ]
     },
     "metadata": {
      "needs_background": "light"
     },
     "output_type": "display_data"
    }
   ],
   "source": [
    "#distribution of no\n",
    "\n",
    "sns.countplot(x='no', hue='experiment',data=ad_data)\n",
    "plt.xticks(rotation='vertical')\n",
    "plt.title('Frequency Distribution of No per experiment')\n",
    "plt.ylabel('Number of Occurrences', fontsize=12)\n",
    "plt.xlabel('No Answer', fontsize=12)\n",
    "plt.show()"
   ]
  },
  {
   "cell_type": "code",
   "execution_count": 29,
   "metadata": {},
   "outputs": [
    {
     "data": {
      "text/plain": [
       "0    3807\n",
       "1     264\n",
       "Name: yes, dtype: int64"
      ]
     },
     "execution_count": 29,
     "metadata": {},
     "output_type": "execute_result"
    }
   ],
   "source": [
    "#Number of user who responded yes in control group\n",
    "ad_data[ad_data['experiment'] == 'control']['yes'].value_counts()"
   ]
  },
  {
   "cell_type": "code",
   "execution_count": 30,
   "metadata": {},
   "outputs": [
    {
     "data": {
      "text/plain": [
       "0    3749\n",
       "1     322\n",
       "Name: no, dtype: int64"
      ]
     },
     "execution_count": 30,
     "metadata": {},
     "output_type": "execute_result"
    }
   ],
   "source": [
    "#number of user who responded no in control group\n",
    "ad_data[ad_data['experiment'] == 'control']['no'].value_counts()"
   ]
  },
  {
   "cell_type": "code",
   "execution_count": 31,
   "metadata": {},
   "outputs": [
    {
     "data": {
      "text/plain": [
       "0    3698\n",
       "1     308\n",
       "Name: yes, dtype: int64"
      ]
     },
     "execution_count": 31,
     "metadata": {},
     "output_type": "execute_result"
    }
   ],
   "source": [
    "#Number of user who responded yes in exposed group\n",
    "ad_data[ad_data['experiment'] == 'exposed']['yes'].value_counts()"
   ]
  },
  {
   "cell_type": "code",
   "execution_count": 32,
   "metadata": {},
   "outputs": [
    {
     "data": {
      "text/plain": [
       "0    3657\n",
       "1     349\n",
       "Name: no, dtype: int64"
      ]
     },
     "execution_count": 32,
     "metadata": {},
     "output_type": "execute_result"
    }
   ],
   "source": [
    "#Number of user who responded no in exposed group\n",
    "ad_data[ad_data['experiment'] == 'exposed']['no'].value_counts()"
   ]
  },
  {
   "cell_type": "code",
   "execution_count": 33,
   "metadata": {},
   "outputs": [
    {
     "name": "stdout",
     "output_type": "stream",
     "text": [
      "(1243, 9)\n"
     ]
    },
    {
     "data": {
      "text/plain": [
       "exposed    657\n",
       "control    586\n",
       "Name: experiment, dtype: int64"
      ]
     },
     "execution_count": 33,
     "metadata": {},
     "output_type": "execute_result"
    }
   ],
   "source": [
    "#The user may see the BIO questionnaire but choose not to respond. since we dont want when user choose not respond we drop the\n",
    "# rows that has both yes and no 0.\n",
    "mask = (ad_data['yes'] == 0) & (ad_data['no'] == 0)\n",
    "index_to_drop = ad_data[mask].index\n",
    "ad_data = ad_data.drop(index_to_drop)\n",
    "\n",
    "print(ad_data.shape)\n",
    "ad_data[\"experiment\"].value_counts()"
   ]
  },
  {
   "cell_type": "code",
   "execution_count": 34,
   "metadata": {},
   "outputs": [
    {
     "data": {
      "text/html": [
       "<div>\n",
       "<style scoped>\n",
       "    .dataframe tbody tr th:only-of-type {\n",
       "        vertical-align: middle;\n",
       "    }\n",
       "\n",
       "    .dataframe tbody tr th {\n",
       "        vertical-align: top;\n",
       "    }\n",
       "\n",
       "    .dataframe thead th {\n",
       "        text-align: right;\n",
       "    }\n",
       "</style>\n",
       "<table border=\"1\" class=\"dataframe\">\n",
       "  <thead>\n",
       "    <tr style=\"text-align: right;\">\n",
       "      <th></th>\n",
       "      <th>auction_id</th>\n",
       "      <th>experiment</th>\n",
       "      <th>date</th>\n",
       "      <th>hour</th>\n",
       "      <th>device_make</th>\n",
       "      <th>platform_os</th>\n",
       "      <th>browser</th>\n",
       "      <th>yes</th>\n",
       "      <th>no</th>\n",
       "    </tr>\n",
       "  </thead>\n",
       "  <tbody>\n",
       "    <tr>\n",
       "      <th>1519</th>\n",
       "      <td>321e2198-aa78-422d-92f5-4783f7c78c1e</td>\n",
       "      <td>exposed</td>\n",
       "      <td>2020-07-09</td>\n",
       "      <td>3</td>\n",
       "      <td>Generic Smartphone</td>\n",
       "      <td>6</td>\n",
       "      <td>Chrome Mobile</td>\n",
       "      <td>1</td>\n",
       "      <td>0</td>\n",
       "    </tr>\n",
       "    <tr>\n",
       "      <th>466</th>\n",
       "      <td>0ded142b-aadd-45aa-9343-8b1c7b04df8c</td>\n",
       "      <td>control</td>\n",
       "      <td>2020-07-03</td>\n",
       "      <td>15</td>\n",
       "      <td>POT-LX1</td>\n",
       "      <td>6</td>\n",
       "      <td>Facebook</td>\n",
       "      <td>0</td>\n",
       "      <td>1</td>\n",
       "    </tr>\n",
       "    <tr>\n",
       "      <th>5143</th>\n",
       "      <td>a3af7c56-caf7-4ee0-bdfd-d5514dd03fbb</td>\n",
       "      <td>exposed</td>\n",
       "      <td>2020-07-08</td>\n",
       "      <td>18</td>\n",
       "      <td>Samsung SM-G950F</td>\n",
       "      <td>6</td>\n",
       "      <td>Chrome Mobile WebView</td>\n",
       "      <td>1</td>\n",
       "      <td>0</td>\n",
       "    </tr>\n",
       "    <tr>\n",
       "      <th>2791</th>\n",
       "      <td>59dbd61a-a0ac-45ee-9d7f-18ab30295485</td>\n",
       "      <td>control</td>\n",
       "      <td>2020-07-07</td>\n",
       "      <td>3</td>\n",
       "      <td>Generic Smartphone</td>\n",
       "      <td>6</td>\n",
       "      <td>Chrome Mobile</td>\n",
       "      <td>0</td>\n",
       "      <td>1</td>\n",
       "    </tr>\n",
       "    <tr>\n",
       "      <th>3854</th>\n",
       "      <td>7c484dcc-d619-416b-80a1-2b5995ce0ccf</td>\n",
       "      <td>exposed</td>\n",
       "      <td>2020-07-10</td>\n",
       "      <td>2</td>\n",
       "      <td>Generic Smartphone</td>\n",
       "      <td>6</td>\n",
       "      <td>Chrome Mobile</td>\n",
       "      <td>0</td>\n",
       "      <td>1</td>\n",
       "    </tr>\n",
       "  </tbody>\n",
       "</table>\n",
       "</div>"
      ],
      "text/plain": [
       "                                auction_id experiment        date  hour  \\\n",
       "1519  321e2198-aa78-422d-92f5-4783f7c78c1e    exposed  2020-07-09     3   \n",
       "466   0ded142b-aadd-45aa-9343-8b1c7b04df8c    control  2020-07-03    15   \n",
       "5143  a3af7c56-caf7-4ee0-bdfd-d5514dd03fbb    exposed  2020-07-08    18   \n",
       "2791  59dbd61a-a0ac-45ee-9d7f-18ab30295485    control  2020-07-07     3   \n",
       "3854  7c484dcc-d619-416b-80a1-2b5995ce0ccf    exposed  2020-07-10     2   \n",
       "\n",
       "             device_make  platform_os                browser  yes  no  \n",
       "1519  Generic Smartphone            6          Chrome Mobile    1   0  \n",
       "466              POT-LX1            6               Facebook    0   1  \n",
       "5143    Samsung SM-G950F            6  Chrome Mobile WebView    1   0  \n",
       "2791  Generic Smartphone            6          Chrome Mobile    0   1  \n",
       "3854  Generic Smartphone            6          Chrome Mobile    0   1  "
      ]
     },
     "execution_count": 34,
     "metadata": {},
     "output_type": "execute_result"
    }
   ],
   "source": [
    "ad_data.sample(5)"
   ]
  },
  {
   "cell_type": "code",
   "execution_count": 36,
   "metadata": {},
   "outputs": [
    {
     "name": "stdout",
     "output_type": "stream",
     "text": [
      "Split of control users who responded yes vs exposed users who responded yes:  47.14 %  52.86 %\n",
      "Number of control users who responded yes:  264\n",
      "Percentage of control users who responded yes:  45.05 %\n",
      "Number of exposed users who responded yes:  308\n",
      "Percentage of exposed users who responded yes:  46.88 %\n"
     ]
    }
   ],
   "source": [
    "#Show the % split between users who responded yes and no\n",
    "mask = (ad_data[\"experiment\"] == \"control\")\n",
    "yes_control = ad_data[\"yes\"][mask].sum()\n",
    "total_users_control = ad_data[\"yes\"][mask].count()\n",
    "\n",
    "mask = (ad_data['experiment']== 'exposed')\n",
    "yes_exposed = ad_data['yes'][mask].sum()\n",
    "total_users_exposed =ad_data['yes'][mask].count()\n",
    "\n",
    "print(\"Split of control users who responded yes vs exposed users who responded yes: \", \n",
    "          round(total_users_control / ad_data[\"yes\"].count() * 100, 2), \"% \",\n",
    "          round((total_users_exposed / ad_data[\"yes\"].count()) * 100, 2), \"%\")\n",
    "\n",
    "#count number of users who responded yes in each group\n",
    "print(\"Number of control users who responded yes: \", yes_control)\n",
    "print(\"Percentage of control users who responded yes: \", round((yes_control / total_users_control) * 100, 2), \"%\")\n",
    "\n",
    "print(\"Number of exposed users who responded yes: \", yes_exposed)\n",
    "print(\"Percentage of exposed users who responded yes: \", round((yes_exposed/ total_users_exposed) * 100, 2), \"%\")\n"
   ]
  },
  {
   "cell_type": "markdown",
   "metadata": {},
   "source": [
    "### Set test parameters "
   ]
  },
  {
   "cell_type": "code",
   "execution_count": 38,
   "metadata": {},
   "outputs": [
    {
     "name": "stdout",
     "output_type": "stream",
     "text": [
      "Required sample size:  38932  per group\n"
     ]
    }
   ],
   "source": [
    "#Check what sample size is required\n",
    "baseline_rate = yes_control / total_users_control\n",
    "practical_significance = 0.01 #user defined\n",
    "confidence_level = 0.05 #user defined, for a 95% confidence interval\n",
    "sensitivity = 0.8 #user defined\n",
    "\n",
    "effect_size = sms.proportion_effectsize(baseline_rate, baseline_rate + practical_significance)\n",
    "sample_size = sms.NormalIndPower().solve_power(effect_size = effect_size, power = sensitivity, \n",
    "                                               alpha = confidence_level, ratio=1)\n",
    "print(\"Required sample size: \", round(sample_size), \" per group\")"
   ]
  },
  {
   "cell_type": "markdown",
   "metadata": {},
   "source": [
    "## A/B Test"
   ]
  },
  {
   "cell_type": "code",
   "execution_count": 41,
   "metadata": {},
   "outputs": [],
   "source": [
    "#Calculate pooled probability\n",
    "prob_pooled = (yes_control + yes_exposed) / (total_users_control + total_users_exposed)"
   ]
  },
  {
   "cell_type": "code",
   "execution_count": 42,
   "metadata": {},
   "outputs": [
    {
     "name": "stdout",
     "output_type": "stream",
     "text": [
      "Do not reject the null hypothesis\n",
      "The lower bound of the confidence interval is  -3.72 %\n",
      "The upper bound of the confidence interval is  7.38 %\n"
     ]
    }
   ],
   "source": [
    "#Calculate pooled standard error and margin of error\n",
    "se_pooled = math.sqrt(prob_pooled * (1 - prob_pooled) * (1 / total_users_control + 1 / total_users_exposed))\n",
    "z_score = st.norm.ppf(1 - confidence_level / 2)\n",
    "margin_of_error = se_pooled * z_score\n",
    "\n",
    "#Calculate dhat, the estimated difference between probability of conversions in the exposed and control groups\n",
    "d_hat = (yes_exposed / total_users_exposed) - (yes_control / total_users_control)\n",
    "\n",
    "#Test if we can reject the null hypothesis\n",
    "lower_bound = d_hat - margin_of_error\n",
    "upper_bound = d_hat + margin_of_error\n",
    "\n",
    "if practical_significance < lower_bound:\n",
    "    print(\"Reject null hypothesis\")\n",
    "else: \n",
    "    print(\"Do not reject the null hypothesis\")\n",
    "    \n",
    "print(\"The lower bound of the confidence interval is \", round(lower_bound * 100, 2), \"%\")\n",
    "print(\"The upper bound of the confidence interval is \", round(upper_bound * 100, 2), \"%\")"
   ]
  },
  {
   "cell_type": "markdown",
   "metadata": {},
   "source": [
    "**From above a/b test we can conclude that the null hypothesis is true. This means the hypothesis that there is no difference in brand awareness between the exposed and control groups in the current case is true. The sample is not enough to measure the significance of new ad version.**"
   ]
  },
  {
   "cell_type": "code",
   "execution_count": null,
   "metadata": {},
   "outputs": [],
   "source": []
  }
 ],
 "metadata": {
  "kernelspec": {
   "display_name": "Python 3",
   "language": "python",
   "name": "python3"
  },
  "language_info": {
   "codemirror_mode": {
    "name": "ipython",
    "version": 3
   },
   "file_extension": ".py",
   "mimetype": "text/x-python",
   "name": "python",
   "nbconvert_exporter": "python",
   "pygments_lexer": "ipython3",
   "version": "3.6.7"
  }
 },
 "nbformat": 4,
 "nbformat_minor": 2
}
